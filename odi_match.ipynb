{
 "cells": [
  {
   "cell_type": "code",
   "execution_count": 33,
   "metadata": {},
   "outputs": [],
   "source": [
    "import pandas as pd\n",
    "import numpy as np\n",
    "import matplotlib.pyplot as plt"
   ]
  },
  {
   "cell_type": "code",
   "execution_count": 2,
   "metadata": {
    "scrolled": true
   },
   "outputs": [
    {
     "data": {
      "text/html": [
       "<div>\n",
       "<style scoped>\n",
       "    .dataframe tbody tr th:only-of-type {\n",
       "        vertical-align: middle;\n",
       "    }\n",
       "\n",
       "    .dataframe tbody tr th {\n",
       "        vertical-align: top;\n",
       "    }\n",
       "\n",
       "    .dataframe thead th {\n",
       "        text-align: right;\n",
       "    }\n",
       "</style>\n",
       "<table border=\"1\" class=\"dataframe\">\n",
       "  <thead>\n",
       "    <tr style=\"text-align: right;\">\n",
       "      <th></th>\n",
       "      <th>team1</th>\n",
       "      <th>team2</th>\n",
       "      <th>innings1_overs</th>\n",
       "      <th>innings1_wickets</th>\n",
       "      <th>innings1_runs</th>\n",
       "      <th>innings2_overs</th>\n",
       "      <th>innings2_wickets</th>\n",
       "      <th>innings2_runs</th>\n",
       "      <th>year</th>\n",
       "    </tr>\n",
       "  </thead>\n",
       "  <tbody>\n",
       "    <tr>\n",
       "      <th>0</th>\n",
       "      <td>SRI LANKA</td>\n",
       "      <td>ZIMBABWE</td>\n",
       "      <td>50.0</td>\n",
       "      <td>7</td>\n",
       "      <td>272</td>\n",
       "      <td>47.2</td>\n",
       "      <td>10</td>\n",
       "      <td>213</td>\n",
       "      <td>2001</td>\n",
       "    </tr>\n",
       "    <tr>\n",
       "      <th>1</th>\n",
       "      <td>NETHERLANDS</td>\n",
       "      <td>CANADA</td>\n",
       "      <td>50.0</td>\n",
       "      <td>7</td>\n",
       "      <td>289</td>\n",
       "      <td>43.0</td>\n",
       "      <td>10</td>\n",
       "      <td>172</td>\n",
       "      <td>2007</td>\n",
       "    </tr>\n",
       "    <tr>\n",
       "      <th>2</th>\n",
       "      <td>ZIMBABWE</td>\n",
       "      <td>SOUTH AFRICA</td>\n",
       "      <td>50.0</td>\n",
       "      <td>8</td>\n",
       "      <td>174</td>\n",
       "      <td>34.2</td>\n",
       "      <td>1</td>\n",
       "      <td>175</td>\n",
       "      <td>2003</td>\n",
       "    </tr>\n",
       "    <tr>\n",
       "      <th>3</th>\n",
       "      <td>INDIA</td>\n",
       "      <td>NEW ZEALAND</td>\n",
       "      <td>49.0</td>\n",
       "      <td>10</td>\n",
       "      <td>276</td>\n",
       "      <td>45.2</td>\n",
       "      <td>10</td>\n",
       "      <td>236</td>\n",
       "      <td>2010</td>\n",
       "    </tr>\n",
       "    <tr>\n",
       "      <th>4</th>\n",
       "      <td>AUSTRALIA</td>\n",
       "      <td>NEW ZEALAND</td>\n",
       "      <td>48.4</td>\n",
       "      <td>10</td>\n",
       "      <td>181</td>\n",
       "      <td>50.0</td>\n",
       "      <td>8</td>\n",
       "      <td>182</td>\n",
       "      <td>2009</td>\n",
       "    </tr>\n",
       "  </tbody>\n",
       "</table>\n",
       "</div>"
      ],
      "text/plain": [
       "         team1         team2  innings1_overs  innings1_wickets  innings1_runs  \\\n",
       "0    SRI LANKA      ZIMBABWE            50.0                 7            272   \n",
       "1  NETHERLANDS        CANADA            50.0                 7            289   \n",
       "2     ZIMBABWE  SOUTH AFRICA            50.0                 8            174   \n",
       "3        INDIA   NEW ZEALAND            49.0                10            276   \n",
       "4    AUSTRALIA   NEW ZEALAND            48.4                10            181   \n",
       "\n",
       "   innings2_overs  innings2_wickets  innings2_runs  year  \n",
       "0            47.2                10            213  2001  \n",
       "1            43.0                10            172  2007  \n",
       "2            34.2                 1            175  2003  \n",
       "3            45.2                10            236  2010  \n",
       "4            50.0                 8            182  2009  "
      ]
     },
     "execution_count": 2,
     "metadata": {},
     "output_type": "execute_result"
    }
   ],
   "source": [
    "data = pd.read_csv(\"matches.csv\")\n",
    "data.head(5)"
   ]
  },
  {
   "cell_type": "markdown",
   "metadata": {},
   "source": [
    "## Prforming EDA"
   ]
  },
  {
   "cell_type": "code",
   "execution_count": 3,
   "metadata": {},
   "outputs": [
    {
     "data": {
      "text/plain": [
       "Index(['team1', 'team2', 'innings1_overs', 'innings1_wickets', 'innings1_runs',\n",
       "       'innings2_overs', 'innings2_wickets', 'innings2_runs', 'year'],\n",
       "      dtype='object')"
      ]
     },
     "execution_count": 3,
     "metadata": {},
     "output_type": "execute_result"
    }
   ],
   "source": [
    "data.columns"
   ]
  },
  {
   "cell_type": "code",
   "execution_count": 4,
   "metadata": {},
   "outputs": [
    {
     "data": {
      "text/plain": [
       "team1               0\n",
       "team2               0\n",
       "innings1_overs      0\n",
       "innings1_wickets    0\n",
       "innings1_runs       0\n",
       "innings2_overs      0\n",
       "innings2_wickets    0\n",
       "innings2_runs       0\n",
       "year                0\n",
       "dtype: int64"
      ]
     },
     "execution_count": 4,
     "metadata": {},
     "output_type": "execute_result"
    }
   ],
   "source": [
    "data.isnull().sum()"
   ]
  },
  {
   "cell_type": "code",
   "execution_count": 5,
   "metadata": {},
   "outputs": [
    {
     "data": {
      "text/plain": [
       "array(['SRI LANKA', 'NETHERLANDS', 'ZIMBABWE', ..., 'NEW ZEALAND',\n",
       "       'AUSTRALIA', 'KENYA'], dtype=object)"
      ]
     },
     "execution_count": 5,
     "metadata": {},
     "output_type": "execute_result"
    }
   ],
   "source": [
    "data['team1'].values"
   ]
  },
  {
   "cell_type": "code",
   "execution_count": 6,
   "metadata": {},
   "outputs": [
    {
     "data": {
      "text/plain": [
       "array(['ZIMBABWE', 'CANADA', 'SOUTH AFRICA', ..., 'ZIMBABWE',\n",
       "       'SOUTH AFRICA', 'SCOTLAND'], dtype=object)"
      ]
     },
     "execution_count": 6,
     "metadata": {},
     "output_type": "execute_result"
    }
   ],
   "source": [
    "data['team2'].values"
   ]
  },
  {
   "cell_type": "code",
   "execution_count": 7,
   "metadata": {},
   "outputs": [],
   "source": [
    "data['team1'] = pd.get_dummies(data['team1'])"
   ]
  },
  {
   "cell_type": "code",
   "execution_count": 8,
   "metadata": {},
   "outputs": [],
   "source": [
    "data['team2'] = pd.get_dummies(data['team2'])"
   ]
  },
  {
   "cell_type": "code",
   "execution_count": 9,
   "metadata": {},
   "outputs": [
    {
     "data": {
      "text/html": [
       "<div>\n",
       "<style scoped>\n",
       "    .dataframe tbody tr th:only-of-type {\n",
       "        vertical-align: middle;\n",
       "    }\n",
       "\n",
       "    .dataframe tbody tr th {\n",
       "        vertical-align: top;\n",
       "    }\n",
       "\n",
       "    .dataframe thead th {\n",
       "        text-align: right;\n",
       "    }\n",
       "</style>\n",
       "<table border=\"1\" class=\"dataframe\">\n",
       "  <thead>\n",
       "    <tr style=\"text-align: right;\">\n",
       "      <th></th>\n",
       "      <th>team1</th>\n",
       "      <th>team2</th>\n",
       "      <th>innings1_overs</th>\n",
       "      <th>innings1_wickets</th>\n",
       "      <th>innings1_runs</th>\n",
       "      <th>innings2_overs</th>\n",
       "      <th>innings2_wickets</th>\n",
       "      <th>innings2_runs</th>\n",
       "      <th>year</th>\n",
       "    </tr>\n",
       "  </thead>\n",
       "  <tbody>\n",
       "    <tr>\n",
       "      <th>0</th>\n",
       "      <td>0</td>\n",
       "      <td>0</td>\n",
       "      <td>50.0</td>\n",
       "      <td>7</td>\n",
       "      <td>272</td>\n",
       "      <td>47.2</td>\n",
       "      <td>10</td>\n",
       "      <td>213</td>\n",
       "      <td>2001</td>\n",
       "    </tr>\n",
       "    <tr>\n",
       "      <th>1</th>\n",
       "      <td>0</td>\n",
       "      <td>0</td>\n",
       "      <td>50.0</td>\n",
       "      <td>7</td>\n",
       "      <td>289</td>\n",
       "      <td>43.0</td>\n",
       "      <td>10</td>\n",
       "      <td>172</td>\n",
       "      <td>2007</td>\n",
       "    </tr>\n",
       "    <tr>\n",
       "      <th>2</th>\n",
       "      <td>0</td>\n",
       "      <td>0</td>\n",
       "      <td>50.0</td>\n",
       "      <td>8</td>\n",
       "      <td>174</td>\n",
       "      <td>34.2</td>\n",
       "      <td>1</td>\n",
       "      <td>175</td>\n",
       "      <td>2003</td>\n",
       "    </tr>\n",
       "    <tr>\n",
       "      <th>3</th>\n",
       "      <td>0</td>\n",
       "      <td>0</td>\n",
       "      <td>49.0</td>\n",
       "      <td>10</td>\n",
       "      <td>276</td>\n",
       "      <td>45.2</td>\n",
       "      <td>10</td>\n",
       "      <td>236</td>\n",
       "      <td>2010</td>\n",
       "    </tr>\n",
       "    <tr>\n",
       "      <th>4</th>\n",
       "      <td>0</td>\n",
       "      <td>0</td>\n",
       "      <td>48.4</td>\n",
       "      <td>10</td>\n",
       "      <td>181</td>\n",
       "      <td>50.0</td>\n",
       "      <td>8</td>\n",
       "      <td>182</td>\n",
       "      <td>2009</td>\n",
       "    </tr>\n",
       "  </tbody>\n",
       "</table>\n",
       "</div>"
      ],
      "text/plain": [
       "   team1  team2  innings1_overs  innings1_wickets  innings1_runs  \\\n",
       "0      0      0            50.0                 7            272   \n",
       "1      0      0            50.0                 7            289   \n",
       "2      0      0            50.0                 8            174   \n",
       "3      0      0            49.0                10            276   \n",
       "4      0      0            48.4                10            181   \n",
       "\n",
       "   innings2_overs  innings2_wickets  innings2_runs  year  \n",
       "0            47.2                10            213  2001  \n",
       "1            43.0                10            172  2007  \n",
       "2            34.2                 1            175  2003  \n",
       "3            45.2                10            236  2010  \n",
       "4            50.0                 8            182  2009  "
      ]
     },
     "execution_count": 9,
     "metadata": {},
     "output_type": "execute_result"
    }
   ],
   "source": [
    "data.head()"
   ]
  },
  {
   "cell_type": "code",
   "execution_count": 53,
   "metadata": {},
   "outputs": [
    {
     "data": {
      "text/html": [
       "<div>\n",
       "<style scoped>\n",
       "    .dataframe tbody tr th:only-of-type {\n",
       "        vertical-align: middle;\n",
       "    }\n",
       "\n",
       "    .dataframe tbody tr th {\n",
       "        vertical-align: top;\n",
       "    }\n",
       "\n",
       "    .dataframe thead th {\n",
       "        text-align: right;\n",
       "    }\n",
       "</style>\n",
       "<table border=\"1\" class=\"dataframe\">\n",
       "  <thead>\n",
       "    <tr style=\"text-align: right;\">\n",
       "      <th></th>\n",
       "      <th>team1</th>\n",
       "      <th>team2</th>\n",
       "      <th>innings1_overs</th>\n",
       "      <th>innings1_wickets</th>\n",
       "      <th>innings1_runs</th>\n",
       "      <th>innings2_overs</th>\n",
       "      <th>innings2_wickets</th>\n",
       "      <th>innings2_runs</th>\n",
       "    </tr>\n",
       "  </thead>\n",
       "  <tbody>\n",
       "    <tr>\n",
       "      <th>team1</th>\n",
       "      <td>1.000000</td>\n",
       "      <td>-0.013555</td>\n",
       "      <td>-0.017929</td>\n",
       "      <td>0.045796</td>\n",
       "      <td>-0.024733</td>\n",
       "      <td>-0.020722</td>\n",
       "      <td>0.011698</td>\n",
       "      <td>-0.027684</td>\n",
       "    </tr>\n",
       "    <tr>\n",
       "      <th>team2</th>\n",
       "      <td>-0.013555</td>\n",
       "      <td>1.000000</td>\n",
       "      <td>-0.005223</td>\n",
       "      <td>0.046164</td>\n",
       "      <td>-0.027556</td>\n",
       "      <td>-0.015460</td>\n",
       "      <td>0.009358</td>\n",
       "      <td>-0.017787</td>\n",
       "    </tr>\n",
       "    <tr>\n",
       "      <th>innings1_overs</th>\n",
       "      <td>-0.017929</td>\n",
       "      <td>-0.005223</td>\n",
       "      <td>1.000000</td>\n",
       "      <td>-0.164192</td>\n",
       "      <td>0.547677</td>\n",
       "      <td>0.617141</td>\n",
       "      <td>0.285340</td>\n",
       "      <td>0.413507</td>\n",
       "    </tr>\n",
       "    <tr>\n",
       "      <th>innings1_wickets</th>\n",
       "      <td>0.045796</td>\n",
       "      <td>0.046164</td>\n",
       "      <td>-0.164192</td>\n",
       "      <td>1.000000</td>\n",
       "      <td>-0.538340</td>\n",
       "      <td>-0.210299</td>\n",
       "      <td>-0.298762</td>\n",
       "      <td>-0.263535</td>\n",
       "    </tr>\n",
       "    <tr>\n",
       "      <th>innings1_runs</th>\n",
       "      <td>-0.024733</td>\n",
       "      <td>-0.027556</td>\n",
       "      <td>0.547677</td>\n",
       "      <td>-0.538340</td>\n",
       "      <td>1.000000</td>\n",
       "      <td>0.455345</td>\n",
       "      <td>0.477859</td>\n",
       "      <td>0.576052</td>\n",
       "    </tr>\n",
       "    <tr>\n",
       "      <th>innings2_overs</th>\n",
       "      <td>-0.020722</td>\n",
       "      <td>-0.015460</td>\n",
       "      <td>0.617141</td>\n",
       "      <td>-0.210299</td>\n",
       "      <td>0.455345</td>\n",
       "      <td>1.000000</td>\n",
       "      <td>0.385690</td>\n",
       "      <td>0.710655</td>\n",
       "    </tr>\n",
       "    <tr>\n",
       "      <th>innings2_wickets</th>\n",
       "      <td>0.011698</td>\n",
       "      <td>0.009358</td>\n",
       "      <td>0.285340</td>\n",
       "      <td>-0.298762</td>\n",
       "      <td>0.477859</td>\n",
       "      <td>0.385690</td>\n",
       "      <td>1.000000</td>\n",
       "      <td>0.083467</td>\n",
       "    </tr>\n",
       "    <tr>\n",
       "      <th>innings2_runs</th>\n",
       "      <td>-0.027684</td>\n",
       "      <td>-0.017787</td>\n",
       "      <td>0.413507</td>\n",
       "      <td>-0.263535</td>\n",
       "      <td>0.576052</td>\n",
       "      <td>0.710655</td>\n",
       "      <td>0.083467</td>\n",
       "      <td>1.000000</td>\n",
       "    </tr>\n",
       "  </tbody>\n",
       "</table>\n",
       "</div>"
      ],
      "text/plain": [
       "                     team1     team2  innings1_overs  innings1_wickets  \\\n",
       "team1             1.000000 -0.013555       -0.017929          0.045796   \n",
       "team2            -0.013555  1.000000       -0.005223          0.046164   \n",
       "innings1_overs   -0.017929 -0.005223        1.000000         -0.164192   \n",
       "innings1_wickets  0.045796  0.046164       -0.164192          1.000000   \n",
       "innings1_runs    -0.024733 -0.027556        0.547677         -0.538340   \n",
       "innings2_overs   -0.020722 -0.015460        0.617141         -0.210299   \n",
       "innings2_wickets  0.011698  0.009358        0.285340         -0.298762   \n",
       "innings2_runs    -0.027684 -0.017787        0.413507         -0.263535   \n",
       "\n",
       "                  innings1_runs  innings2_overs  innings2_wickets  \\\n",
       "team1                 -0.024733       -0.020722          0.011698   \n",
       "team2                 -0.027556       -0.015460          0.009358   \n",
       "innings1_overs         0.547677        0.617141          0.285340   \n",
       "innings1_wickets      -0.538340       -0.210299         -0.298762   \n",
       "innings1_runs          1.000000        0.455345          0.477859   \n",
       "innings2_overs         0.455345        1.000000          0.385690   \n",
       "innings2_wickets       0.477859        0.385690          1.000000   \n",
       "innings2_runs          0.576052        0.710655          0.083467   \n",
       "\n",
       "                  innings2_runs  \n",
       "team1                 -0.027684  \n",
       "team2                 -0.017787  \n",
       "innings1_overs         0.413507  \n",
       "innings1_wickets      -0.263535  \n",
       "innings1_runs          0.576052  \n",
       "innings2_overs         0.710655  \n",
       "innings2_wickets       0.083467  \n",
       "innings2_runs          1.000000  "
      ]
     },
     "execution_count": 53,
     "metadata": {},
     "output_type": "execute_result"
    }
   ],
   "source": [
    "data.corr()"
   ]
  },
  {
   "cell_type": "code",
   "execution_count": 10,
   "metadata": {},
   "outputs": [],
   "source": [
    "import matplotlib.pyplot as plt"
   ]
  },
  {
   "cell_type": "code",
   "execution_count": 11,
   "metadata": {},
   "outputs": [
    {
     "data": {
      "text/plain": [
       "{'whiskers': [<matplotlib.lines.Line2D at 0x1cad1c1a6d0>,\n",
       "  <matplotlib.lines.Line2D at 0x1cad1c1aa30>],\n",
       " 'caps': [<matplotlib.lines.Line2D at 0x1cad1c1ad90>,\n",
       "  <matplotlib.lines.Line2D at 0x1cad1c2d130>],\n",
       " 'boxes': [<matplotlib.lines.Line2D at 0x1cad1c1a370>],\n",
       " 'medians': [<matplotlib.lines.Line2D at 0x1cad1c2d490>],\n",
       " 'fliers': [<matplotlib.lines.Line2D at 0x1cad1c2d790>],\n",
       " 'means': []}"
      ]
     },
     "execution_count": 11,
     "metadata": {},
     "output_type": "execute_result"
    },
    {
     "data": {
      "image/png": "[encoded data removed]",
      "text/plain": [
       "<Figure size 432x288 with 1 Axes>"
      ]
     },
     "metadata": {
      "needs_background": "light"
     },
     "output_type": "display_data"
    }
   ],
   "source": [
    "plt.boxplot(data['innings1_runs'])"
   ]
  },
  {
   "cell_type": "code",
   "execution_count": 12,
   "metadata": {},
   "outputs": [
    {
     "data": {
      "text/plain": [
       "count    4037.000000\n",
       "mean      234.005697\n",
       "std        60.683718\n",
       "min        35.000000\n",
       "25%       196.000000\n",
       "50%       235.000000\n",
       "75%       273.000000\n",
       "max       481.000000\n",
       "Name: innings1_runs, dtype: float64"
      ]
     },
     "execution_count": 12,
     "metadata": {},
     "output_type": "execute_result"
    }
   ],
   "source": [
    "data['innings1_runs'].describe()"
   ]
  },
  {
   "cell_type": "code",
   "execution_count": 13,
   "metadata": {},
   "outputs": [],
   "source": [
    "del data['year']"
   ]
  },
  {
   "cell_type": "code",
   "execution_count": 14,
   "metadata": {},
   "outputs": [],
   "source": [
    "x = data.iloc[:,:-1]\n",
    "y = data.iloc[:,-1]"
   ]
  },
  {
   "cell_type": "code",
   "execution_count": 15,
   "metadata": {},
   "outputs": [
    {
     "data": {
      "text/plain": [
       "0       213\n",
       "1       172\n",
       "2       175\n",
       "3       236\n",
       "4       182\n",
       "       ... \n",
       "4032    221\n",
       "4033    230\n",
       "4034    158\n",
       "4035    218\n",
       "4036    253\n",
       "Name: innings2_runs, Length: 4037, dtype: int64"
      ]
     },
     "execution_count": 15,
     "metadata": {},
     "output_type": "execute_result"
    }
   ],
   "source": [
    "y"
   ]
  },
  {
   "cell_type": "code",
   "execution_count": 16,
   "metadata": {},
   "outputs": [],
   "source": [
    "from sklearn.model_selection import train_test_split as tts"
   ]
  },
  {
   "cell_type": "code",
   "execution_count": 40,
   "metadata": {},
   "outputs": [],
   "source": [
    "x_train,x_test,y_train,y_test = tts(x,y,test_size = 0.6)"
   ]
  },
  {
   "cell_type": "code",
   "execution_count": 41,
   "metadata": {},
   "outputs": [
    {
     "data": {
      "text/plain": [
       "((1614, 7), (2423, 7), (1614,), (2423,))"
      ]
     },
     "execution_count": 41,
     "metadata": {},
     "output_type": "execute_result"
    }
   ],
   "source": [
    "x_train.shape,x_test.shape,y_train.shape,y_test.shape"
   ]
  },
  {
   "cell_type": "markdown",
   "metadata": {},
   "source": [
    "## Building Model "
   ]
  },
  {
   "cell_type": "code",
   "execution_count": 42,
   "metadata": {},
   "outputs": [],
   "source": [
    "from sklearn.preprocessing import StandardScaler"
   ]
  },
  {
   "cell_type": "code",
   "execution_count": 43,
   "metadata": {},
   "outputs": [],
   "source": [
    "sc =  StandardScaler()\n",
    "x_train = sc.fit_transform(x_train)\n",
    "x_test = sc.transform(x_test)"
   ]
  },
  {
   "cell_type": "code",
   "execution_count": 44,
   "metadata": {},
   "outputs": [
    {
     "data": {
      "text/plain": [
       "LinearRegression()"
      ]
     },
     "execution_count": 44,
     "metadata": {},
     "output_type": "execute_result"
    }
   ],
   "source": [
    "from sklearn.linear_model import LinearRegression\n",
    "lin = LinearRegression()\n",
    "lin.fit(x_train,y_train)"
   ]
  },
  {
   "cell_type": "code",
   "execution_count": 45,
   "metadata": {},
   "outputs": [],
   "source": [
    "from sklearn.ensemble import RandomForestRegressor"
   ]
  },
  {
   "cell_type": "code",
   "execution_count": 46,
   "metadata": {},
   "outputs": [
    {
     "data": {
      "text/plain": [
       "RandomForestRegressor(max_features=None)"
      ]
     },
     "execution_count": 46,
     "metadata": {},
     "output_type": "execute_result"
    }
   ],
   "source": [
    "lin = RandomForestRegressor(n_estimators = 100, max_features = None)\n",
    "lin.fit(x_train,y_train)"
   ]
  },
  {
   "cell_type": "code",
   "execution_count": 47,
   "metadata": {},
   "outputs": [],
   "source": [
    "y_predict = lin.predict(x_test)"
   ]
  },
  {
   "cell_type": "code",
   "execution_count": 48,
   "metadata": {},
   "outputs": [],
   "source": [
    "score = lin.score(x_test,y_test)*100"
   ]
  },
  {
   "cell_type": "code",
   "execution_count": 51,
   "metadata": {},
   "outputs": [
    {
     "data": {
      "text/plain": [
       "79.78385308199603"
      ]
     },
     "execution_count": 51,
     "metadata": {},
     "output_type": "execute_result"
    }
   ],
   "source": [
    "score"
   ]
  },
  {
   "cell_type": "code",
   "execution_count": null,
   "metadata": {},
   "outputs": [],
   "source": []
  },
  {
   "cell_type": "code",
   "execution_count": null,
   "metadata": {},
   "outputs": [],
   "source": []
  }
 ],
 "metadata": {
  "kernelspec": {
   "display_name": "Python 3",
   "language": "python",
   "name": "python3"
  },
  "language_info": {
   "codemirror_mode": {
    "name": "ipython",
    "version": 3
   },
   "file_extension": ".py",
   "mimetype": "text/x-python",
   "name": "python",
   "nbconvert_exporter": "python",
   "pygments_lexer": "ipython3",
   "version": "3.8.3"
  }
 },
 "nbformat": 4,
 "nbformat_minor": 4
}
